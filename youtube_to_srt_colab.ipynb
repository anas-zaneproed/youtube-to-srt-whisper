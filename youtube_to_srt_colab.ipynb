{
 "cells": [
  {
   "cell_type": "code",
   "execution_count": 1,
   "id": "3a2e0e7a",
   "metadata": {},
   "outputs": [],
   "source": [
    "# 1. Install dependencies\n",
    "!pip install yt-dlp\n",
    "!pip install git+https://github.com/openai/whisper.git\n",
    "!sudo apt update && sudo apt install ffmpeg -y\n"
   ]
  },
  {
   "cell_type": "code",
   "execution_count": 2,
   "id": "698e41cc",
   "metadata": {},
   "outputs": [],
   "source": [
    "# 2. Import libraries\n",
    "import whisper\n",
    "import os\n",
    "import yt_dlp\n"
   ]
  },
  {
   "cell_type": "code",
   "execution_count": 3,
   "id": "d4952993",
   "metadata": {},
   "outputs": [],
   "source": [
    "# 3. Define YouTube download function\n",
    "def download_audio(youtube_url, output_path=\"audio.mp3\"):\n",
    "    ydl_opts = {\n",
    "        'format': 'bestaudio/best',\n",
    "        'outtmpl': output_path,\n",
    "        'postprocessors': [{\n",
    "            'key': 'FFmpegExtractAudio',\n",
    "            'preferredcodec': 'mp3',\n",
    "            'preferredquality': '192',\n",
    "        }],\n",
    "        'quiet': False,\n",
    "    }\n",
    "    with yt_dlp.YoutubeDL(ydl_opts) as ydl:\n",
    "        ydl.download([youtube_url])\n"
   ]
  },
  {
   "cell_type": "code",
   "execution_count": 4,
   "id": "30c7e374",
   "metadata": {},
   "outputs": [],
   "source": [
    "# 4. Download the audio from YouTube\n",
    "video_url = input(\"Paste your YouTube video link: \")\n",
    "download_audio(video_url)\n"
   ]
  },
  {
   "cell_type": "code",
   "execution_count": 5,
   "id": "f5b9b1ac",
   "metadata": {},
   "outputs": [],
   "source": [
    "# 5. Load Whisper model\n",
    "model = whisper.load_model(\"base\")  # or use \"small\", \"medium\", \"large\"\n"
   ]
  },
  {
   "cell_type": "code",
   "execution_count": 6,
   "id": "e9c3be3e",
   "metadata": {},
   "outputs": [],
   "source": [
    "# 6. Transcribe audio and export to SRT\n",
    "result = model.transcribe(\"audio.mp3\", task=\"transcribe\", verbose=True)\n",
    "with open(\"subtitles.srt\", \"w\", encoding=\"utf-8\") as srt_file:\n",
    "    for i, segment in enumerate(result[\"segments\"]):\n",
    "        start = segment[\"start\"]\n",
    "        end = segment[\"end\"]\n",
    "        text = segment[\"text\"].strip()\n",
    "\n",
    "        def format_time(seconds):\n",
    "            h = int(seconds // 3600)\n",
    "            m = int((seconds % 3600) // 60)\n",
    "            s = int(seconds % 60)\n",
    "            ms = int((seconds - int(seconds)) * 1000)\n",
    "            return f\"{h:02}:{m:02}:{s:02},{ms:03}\"\n",
    "\n",
    "        srt_file.write(f\"{i+1}\\n{format_time(start)} --> {format_time(end)}\\n{text}\\n\\n\")\n",
    "\n",
    "print(\"✅ Subtitle file generated: subtitles.srt\")"
   ]
  }
 ],
 "metadata": {
  "kernelspec": {
   "display_name": "Python 3",
   "language": "python",
   "name": "python3"
  },
  "language_info": {
   "codemirror_mode": {
    "name": "ipython",
    "version": 3
   },
   "file_extension": ".py",
   "mimetype": "text/x-python",
   "name": "python",
   "nbconvert_exporter": "python",
   "version": "3.8.16"
  }
 },
 "nbformat": 4,
 "nbformat_minor": 5
}
